{
 "cells": [
  {
   "attachments": {},
   "cell_type": "markdown",
   "metadata": {},
   "source": [
    "#Learning to use jupyter"
   ]
  },
  {
   "attachments": {},
   "cell_type": "markdown",
   "metadata": {},
   "source": [
    "### Introduction"
   ]
  },
  {
   "attachments": {},
   "cell_type": "markdown",
   "metadata": {},
   "source": [
    "Data scientist is someone who makes value out of data. Such a person proactively fetches information from various sources and analyzes it for better  understanding about how  the business performs"
   ]
  },
  {
   "attachments": {},
   "cell_type": "markdown",
   "metadata": {},
   "source": [
    "#### List Lengguage Datascience\n",
    "* 1.- Python: It is one of the most widely used languages ​​in data science due to its ease of use and its large number of libraries and tools for data analysis, machine learning, and visualization.\n",
    "* 2.- R: Is a language specifically designed for statistical analysis and data visualization, and is widely used in academia and research.\n",
    "* 3.- SQL: while not technically a programming language itself, it is a query language used to work with relational databases and extract valuable information for data science.\n",
    "* 4.- JAVA: It is a popular programming language in the industry and is often used in the analysis of large data sets.\n",
    "* 5.- JULIA: Is a relatively new programming language that has gained popularity in data science due to its ability to perform fast computations and ease of use.\n",
    "\n"
   ]
  },
  {
   "attachments": {},
   "cell_type": "markdown",
   "metadata": {},
   "source": [
    "### List Library\n",
    "* 1.-  Pandas: allows the manipulation and analysis of structured data.\n",
    "* 2.-  Numpy: provides support for matrices and advanced math operations\n",
    "* 3.-  Tensorflow: a machine learning library that specializes in large-scale data processing and neural network modeling.\n",
    "* 4.-  Dplory:  provides tools for manipulating and transforming data.\n",
    "* 5.-  ggplot2:   a data visualization library that enables the creation of high-quality charts and visualizations.\n",
    "* 6.-  Scikit-Learn:  a machine learning library that provides tools for classification, regression, clustering, and more.\n",
    "* 7.-  Tidyr: enables cleansing and transformation of structured data.\n",
    "* 8.-   Caret:   a machine learning library that provides tools for classification, regression, clustering, and more."
   ]
  },
  {
   "attachments": {},
   "cell_type": "markdown",
   "metadata": {},
   "source": [
    "### Arithmetic Expression"
   ]
  },
  {
   "cell_type": "code",
   "execution_count": 41,
   "metadata": {},
   "outputs": [
    {
     "name": "stdout",
     "output_type": "stream",
     "text": [
      "17\n"
     ]
    }
   ],
   "source": [
    "a =  10 \n",
    "b = 7\n",
    "print (a+b)"
   ]
  },
  {
   "cell_type": "code",
   "execution_count": 40,
   "metadata": {},
   "outputs": [
    {
     "name": "stdout",
     "output_type": "stream",
     "text": [
      "225\n"
     ]
    }
   ],
   "source": [
    "a = 15\n",
    "b = 15\n",
    "print (a*b)"
   ]
  },
  {
   "attachments": {},
   "cell_type": "markdown",
   "metadata": {},
   "source": [
    "### CONVERTER MINUTE TO HOURS\n"
   ]
  },
  {
   "cell_type": "code",
   "execution_count": 42,
   "metadata": {},
   "outputs": [
    {
     "name": "stdout",
     "output_type": "stream",
     "text": [
      "4.0\n"
     ]
    }
   ],
   "source": [
    "min = 240\n",
    "h = min / 60\n",
    "print(h)"
   ]
  },
  {
   "attachments": {},
   "cell_type": "markdown",
   "metadata": {},
   "source": [
    "#AUTHOR : JHAFET CANEPA MACEDA"
   ]
  }
 ],
 "metadata": {
  "kernelspec": {
   "display_name": "Python 3",
   "language": "python",
   "name": "python3"
  },
  "language_info": {
   "codemirror_mode": {
    "name": "ipython",
    "version": 3
   },
   "file_extension": ".py",
   "mimetype": "text/x-python",
   "name": "python",
   "nbconvert_exporter": "python",
   "pygments_lexer": "ipython3",
   "version": "3.11.2"
  },
  "orig_nbformat": 4
 },
 "nbformat": 4,
 "nbformat_minor": 2
}
